{
 "cells": [
  {
   "cell_type": "markdown",
   "metadata": {},
   "source": [
    "# Convert Kinetics Library to Training Reactions Script\n",
    "\n",
    "Specify the kinetics library name below and run the script.  It automatically overwrites the training reactions files it needs to.  Then you should commit those files.\n",
    "\n",
    "This script only trains safely.  In other words, if a single match from an RMG family is found, a training reaction is created.  Sometimes, there are no matches from RMG reaction families, or multiple matches.  This indicates an error that requires manual fixing, and a printout is given in the script."
   ]
  },
  {
   "cell_type": "code",
   "execution_count": null,
   "metadata": {
    "collapsed": true
   },
   "outputs": [],
   "source": [
    "libraryName = 'vinylCPD_H'\n",
    "compareKinetics = True  # Set to True to plot kinetics comparisons\n",
    "families = 'all'  # Can alternatively specify a list, e.g. ['R_Addition_MultipleBond']"
   ]
  },
  {
   "cell_type": "code",
   "execution_count": null,
   "metadata": {
    "collapsed": false
   },
   "outputs": [],
   "source": [
    "import itertools\n",
    "from base64 import b64encode\n",
    "from IPython.display import display, HTML, Image\n",
    "\n",
    "if compareKinetics:\n",
    "    import numpy as np\n",
    "    import matplotlib.pyplot as plt\n",
    "    from io import BytesIO\n",
    "\n",
    "from rmgpy import settings\n",
    "from rmgpy.chemkin import saveChemkinFile, saveSpeciesDictionary\n",
    "from rmgpy.data.rmg import RMGDatabase\n",
    "from rmgpy.rmg.model import Species"
   ]
  },
  {
   "cell_type": "markdown",
   "metadata": {},
   "source": [
    "\n",
    "## load lib_rxn"
   ]
  },
  {
   "cell_type": "code",
   "execution_count": null,
   "metadata": {
    "collapsed": false
   },
   "outputs": [],
   "source": [
    "database = RMGDatabase()\n",
    "database.load(\n",
    "    path = settings['database.directory'],\n",
    "    thermoLibraries = ['primaryThermoLibrary'],  # can add others if necessary\n",
    "    kineticsFamilies = families,\n",
    "    reactionLibraries = [libraryName],\n",
    "    kineticsDepositories = 'all',\n",
    ")\n",
    "# if we want accurate kinetics comparison, add existing training reactions and fill tree by averaging\n",
    "if compareKinetics:\n",
    "    for family in database.kinetics.families.values():\n",
    "        family.addKineticsRulesFromTrainingSet(thermoDatabase=database.thermo)\n",
    "        family.fillKineticsRulesByAveragingUp(verbose=True)"
   ]
  },
  {
   "cell_type": "markdown",
   "metadata": {},
   "source": [
    "## generate fam_rxn, spec replacement and get reactionDict"
   ]
  },
  {
   "cell_type": "code",
   "execution_count": null,
   "metadata": {
    "collapsed": false,
    "scrolled": true
   },
   "outputs": [],
   "source": [
    "reactionDict = {}\n",
    "kineticLibrary = database.kinetics.libraries[libraryName]\n",
    "\n",
    "# html table settings\n",
    "full = 12\n",
    "half = full / 2\n",
    "\n",
    "def generate_header_html(n, fam_rxn, lib_rxn):\n",
    "    html = ['<table style=\"width:100%;table-layout:fixed;\"><tr>']\n",
    "    \n",
    "    if n == 1:\n",
    "        html += ['<th colspan=\"{0}\" style=\"color:green\">One RMG match for this reaction</th>'.format(full)]\n",
    "    elif n == 0:\n",
    "        if families == 'all':\n",
    "            html += ['<th colspan=\"{0}\" style=\"color:red\">Sad :( There are no matches. This is a magic reaction or has chemistry that should be made into a new reaction family</th>'.format(full)]\n",
    "        else:\n",
    "            html += ['<th colspan=\"{0}\" style=\"color:red\">There are no matches within the selected families: {1}</th>'.format(full, families)]\n",
    "    else:\n",
    "        html += ['<th colspan=\"{0}\" style=\"color:blue\">There are multiple RMG matches for this reaction. You have to manually create this training reaction.</th>'.format(full)]\n",
    "\n",
    "    html += ['</tr><tr>']\n",
    "    if fam_rxn is not None:\n",
    "        html += ['<td colspan=\"{0}\"><img src=\"data:image/png;base64,{1}\"></td>'.format(full, b64encode(fam_rxn._repr_png_()))]\n",
    "    else:\n",
    "        html += ['<td colspan=\"{0}\"><img src=\"data:image/png;base64,{1}\"></td>'.format(full, b64encode(lib_rxn._repr_png_()))]\n",
    "    html += ['</tr><tr>']\n",
    "    html += ['<th colspan=\"{0}\">Reactant SMILES</th>'.format(half)]\n",
    "    html += ['<td colspan=\"{0}\">{1}</td>'.format(half, ' + '.join([reactant.molecule[0].toSMILES() for reactant in lib_rxn.reactants]))]\n",
    "    html += ['</tr><tr>']\n",
    "    html += ['<th colspan=\"{0}\">Product SMILES</th>'.format(half)]\n",
    "    html += ['<td colspan=\"{0}\">{1}</td>'.format(half, ' + '.join([product.molecule[0].toSMILES() for product in lib_rxn.products]))]\n",
    "    html += ['</tr>']\n",
    "    \n",
    "    return html\n",
    "\n",
    "def generate_template_html(rxn, template):\n",
    "    templateSize = len(template)\n",
    "    # html table uses a 12 column setup, so templates with 5 groups will break the table, which should not happen\n",
    "    assert templateSize < 5\n",
    "    \n",
    "    html = ['<tr>']\n",
    "    html += ['<th colspan=\"{0}\">Matched Family</th>'.format(half)]\n",
    "    html += ['<td colspan=\"{0}\">{1}</td>'.format(half, rxn.family)]\n",
    "    html += ['</tr><tr>']\n",
    "    html += ['<th colspan=\"{0}\">Matched Template</th>'.format(half)]\n",
    "    html += ['<td colspan=\"{0}\">{1}</td>'.format(half, [entry.label for entry in template])]\n",
    "    html += ['</tr><tr>']\n",
    "    for entry in template:\n",
    "        html += ['<td colspan=\"{0}\">{1}</td>'.format(full/templateSize, entry.label)]\n",
    "    html += ['</tr><tr>']\n",
    "    for entry in template:\n",
    "        html += ['<td colspan=\"{0}\"><img src=\"data:image/png;base64,{1}\"></td>'.format(full/templateSize, b64encode(entry.item._repr_png_()))]\n",
    "    html += ['</tr><tr>']\n",
    "    if templateSize == 3:\n",
    "        merged_group = template[0].item.mergeGroups(template[1].item)\n",
    "        merged_group = merged_group.mergeGroups(template[2].item)\n",
    "        html += ['<td colspan=\"{0}\">{1}</td>'.format(full, 'Merged Template')]\n",
    "        html += ['</tr><tr>']\n",
    "        html += ['<td colspan=\"{0}\"><img src=\"data:image/png;base64,{1}\"></td>'.format(full, b64encode(merged_group._repr_png_()))]\n",
    "    \n",
    "    return html\n",
    "\n",
    "for index, entry in kineticLibrary.entries.iteritems():\n",
    "    lib_rxn = entry.item\n",
    "    lib_rxn.kinetics = entry.data \n",
    "    lib_rxn.index = entry.index\n",
    "    lib_rxn.kinetics.comment = entry.label # Assign the entry's label to the comment\n",
    "    \n",
    "    # Let's make RMG try to generate this reaction from the families!\n",
    "    fam_rxn_list = database.kinetics.generate_reactions_from_families(reactants=lib_rxn.reactants,\n",
    "                                                                      products=lib_rxn.products,\n",
    "                                                                      only_families=None if families == 'all' else families,\n",
    "                                                                      resonance=True)\n",
    "    \n",
    "    if len(fam_rxn_list) == 1:\n",
    "        fam_rxn = fam_rxn_list[0]\n",
    "\n",
    "        forward = fam_rxn.isForward\n",
    "\n",
    "        # Find the labeled atoms using family and reactants & products from fam_rxn\n",
    "        database.kinetics.families[fam_rxn.family].addAtomLabelsForReaction(fam_rxn)\n",
    "\n",
    "        # Replace lib_rxn spcs with fam_rxn spcs to transfer atom labels\n",
    "        if forward:\n",
    "            lib_rxn.reactants = fam_rxn.reactants\n",
    "            lib_rxn.products = fam_rxn.products\n",
    "        else:\n",
    "            lib_rxn.reactants = fam_rxn.products\n",
    "            lib_rxn.products = fam_rxn.reactants\n",
    "        \n",
    "        if fam_rxn.family in reactionDict:\n",
    "            reactionDict[fam_rxn.family].append(lib_rxn)\n",
    "        else:\n",
    "            reactionDict[fam_rxn.family] = [lib_rxn]\n",
    "            \n",
    "        template = database.kinetics.families[fam_rxn.family].retrieveTemplate(fam_rxn.template)\n",
    "        \n",
    "        if compareKinetics:\n",
    "            # check what the current kinetics for this template are\n",
    "            newKinetics = lib_rxn.kinetics\n",
    "            oldKinetics = database.kinetics.families[fam_rxn.family].getKineticsForTemplate(template, degeneracy=fam_rxn.degeneracy)[0]\n",
    "            # evaluate kinetics\n",
    "            tlistinv = np.linspace(1000/1500, 1000/300, num=10)\n",
    "            tlist = 1000 * np.reciprocal(tlistinv)\n",
    "            newklist = np.log10(np.array([newKinetics.getRateCoefficient(t) for t in tlist]))\n",
    "            oldklist = np.log10(np.array([oldKinetics.getRateCoefficient(t) for t in tlist]))\n",
    "            # create plot\n",
    "            plt.cla()\n",
    "            plt.plot(tlistinv, newklist, label='New')\n",
    "            plt.plot(tlistinv, oldklist, label='Current')\n",
    "            plt.legend()\n",
    "            plt.xlabel('1000/T')\n",
    "            plt.ylabel('log(k)')\n",
    "            fig = BytesIO()\n",
    "            plt.savefig(fig, format='png')\n",
    "            fig.seek(0)\n",
    "            figdata = b64encode(fig.getvalue())\n",
    "            fig.close()\n",
    "        \n",
    "        # format output using html\n",
    "        html = generate_header_html(1, fam_rxn, lib_rxn)\n",
    "        html += generate_template_html(fam_rxn, template)\n",
    "        if compareKinetics:\n",
    "            if not forward:\n",
    "                html += ['<tr><th colspan=\"{0}\" style=\"color:red;text-align:center\">Note: Training reaction written in opposite direction from reaction family.</th></tr>'.format(full)]\n",
    "            html += ['<tr>']\n",
    "            html += ['<td colspan=\"{0}\"><strong>New Kinetics:</strong><br>{1}<br><br><strong>Current Kinetics</strong><br>{2}</td>'.format(half, newKinetics, oldKinetics)]\n",
    "            html += ['<td colspan=\"{0}\"><img src=\"data:image/png;base64,{1}\"></td>'.format(half, figdata)]\n",
    "            html += ['</tr>']\n",
    "        html += ['</table>']\n",
    "        \n",
    "        display(HTML(''.join(html)))\n",
    "    elif len(fam_rxn_list) == 0:\n",
    "        html = generate_header_html(0, None, lib_rxn)\n",
    "        html += ['</table>']\n",
    "        \n",
    "        display(HTML(''.join(html)))\n",
    "    else:\n",
    "        if compareKinetics: oldKinetics = []\n",
    "        #lib_reactant = lib_rxn.reactants[0]\n",
    "\n",
    "        for i, rxn in enumerate(fam_rxn_list):\n",
    "            # determine direction of family reaction\n",
    "            forward = rxn.isForward\n",
    "            \n",
    "            template = database.kinetics.families[rxn.family].retrieveTemplate(rxn.template)\n",
    "            \n",
    "            if compareKinetics:\n",
    "                oldKinetics.append(database.kinetics.families[rxn.family].getKineticsForTemplate(template, degeneracy=rxn.degeneracy)[0])\n",
    "            \n",
    "            if i == 0:        \n",
    "                html = generate_header_html(2, rxn, lib_rxn)\n",
    "                \n",
    "            html += ['<tr>']\n",
    "            html += ['<th colspan=\"{0}\">Match #{1} - For the following resonance form of the reaction:</th>'.format(full, i + 1)]\n",
    "            html += ['</tr><tr>']\n",
    "            html += ['<td colspan=\"{0}\"><img src=\"data:image/png;base64,{1}\"></td>'.format(full, b64encode(rxn._repr_png_()))]\n",
    "            html += ['</tr>']\n",
    "            html += generate_template_html(rxn, template)\n",
    "        \n",
    "        if compareKinetics:\n",
    "            newKinetics = lib_rxn.kinetics\n",
    "            # evaluate kinetics\n",
    "            tlistinv = np.linspace(1000/1500, 1000/300, num=10)\n",
    "            tlist = 1000 * np.reciprocal(tlistinv)\n",
    "            newklist = np.log10(np.array([newKinetics.getRateCoefficient(t) for t in tlist]))\n",
    "            oldklist = []\n",
    "            for kinetics in oldKinetics:\n",
    "                oldklist.append(np.log10(np.array([kinetics.getRateCoefficient(t) for t in tlist])))\n",
    "            # create plot\n",
    "            plt.cla()\n",
    "            plt.plot(tlistinv, newklist, label='New')\n",
    "            for i, k in enumerate(oldklist):\n",
    "                plt.plot(tlistinv, k, label='Match #{0}'.format(i + 1))\n",
    "            plt.legend()\n",
    "            plt.xlabel('1000/T')\n",
    "            plt.ylabel('log(k)')\n",
    "            fig = BytesIO()\n",
    "            plt.savefig(fig, format='png')\n",
    "            fig.seek(0)\n",
    "            figdata = b64encode(fig.getvalue())\n",
    "            fig.close()\n",
    "            \n",
    "            if not forward:\n",
    "                html += ['<tr><th colspan=\"{0}\" style=\"color:red;text-align:center\">Note: Training reaction written in opposite direction from reaction family.</tr></tr>'.format(full)]\n",
    "            html += ['<tr><td colspan=\"{0}\">'.format(half)]\n",
    "            html += ['<strong>New Kinetics:</strong><br>{0}'.format(newKinetics)]\n",
    "            for i, kinetics in enumerate(oldKinetics):\n",
    "                html += ['<br><br><strong>Match #{0} Kinetics:</strong><br>{1}'.format(i + 1, kinetics)]\n",
    "            html += ['</td><td colspan=\"{0}\"><img src=\"data:image/png;base64,{1}\"></td>'.format(half, figdata)]\n",
    "            html += ['</tr>']\n",
    "        \n",
    "        html += ['</table>']\n",
    "        \n",
    "        display(HTML(''.join(html)))"
   ]
  },
  {
   "cell_type": "code",
   "execution_count": null,
   "metadata": {
    "collapsed": false
   },
   "outputs": [],
   "source": [
    "for familyName in reactionDict:\n",
    "    print 'Adding training reactions for family: ' + familyName\n",
    "    kineticFamily = database.kinetics.families[familyName]\n",
    "    trainingDatabase = None\n",
    "    for depository in kineticFamily.depositories:\n",
    "            if depository.label.endswith('training'):\n",
    "                trainingDatabase = depository\n",
    "                break\n",
    "    reactions = reactionDict[familyName]\n",
    "    print 'reactions.py previously has {} rxns. Now adding {} new rxn(s).'.format(len(trainingDatabase.entries.values()), len(reactions))\n",
    "    print '================='\n",
    "    kineticFamily.saveTrainingReactions(reactions, shortDesc='Training reaction from kinetics library: {0}'.format(libraryName))"
   ]
  },
  {
   "cell_type": "markdown",
   "metadata": {},
   "source": [
    "# How saveTrainingReaction works\n",
    "\n",
    "This part of the script is commented and should not be run.  It serves only to demonstrate how the code for saving the training reactions works.\n",
    "\n",
    "## get speciesDict\n",
    "\n",
    "### load existing species as an intial speciesDict"
   ]
  },
  {
   "cell_type": "code",
   "execution_count": null,
   "metadata": {
    "collapsed": false
   },
   "outputs": [],
   "source": [
    "# import os\n",
    "# from rmgpy.data.base import Database\n",
    "\n",
    "# training_path = os.path.join(settings['database.directory'], \\\n",
    "#                              'kinetics', 'families', 'R_Addition_MultipleBond', 'training')\n",
    "\n",
    "# dictionary_file = os.path.join(training_path, 'dictionary.txt')\n",
    "\n",
    "# # Load the existing set of the species of the training reactions\n",
    "# speciesDict = Database().getSpecies(dictionary_file)"
   ]
  },
  {
   "cell_type": "markdown",
   "metadata": {},
   "source": [
    "### for one family check uniqueness of each species in the lib_rxns"
   ]
  },
  {
   "cell_type": "code",
   "execution_count": null,
   "metadata": {
    "collapsed": false,
    "scrolled": false
   },
   "outputs": [],
   "source": [
    "# familyName = 'R_Addition_MultipleBond'\n",
    "# print 'Adding training reactions for family: ' + familyName\n",
    "# kineticFamily = database.kinetics.families[familyName]\n",
    "# reactions = reactionDict[familyName]\n",
    "\n",
    "# for rxn in reactions:\n",
    "#     for spec in (rxn.reactants + rxn.products):\n",
    "#         for ex_spec_label in speciesDict:\n",
    "#             ex_spec = speciesDict[ex_spec_label]\n",
    "#             if ex_spec.molecule[0].getFormula() != spec.molecule[0].getFormula():\n",
    "#                 continue\n",
    "#             else:\n",
    "#                 spec_labeledAtoms = spec.molecule[0].getLabeledAtoms()\n",
    "#                 ex_spec_labeledAtoms = ex_spec.molecule[0].getLabeledAtoms()\n",
    "#                 initialMap = {}\n",
    "#                 try:\n",
    "#                     for atomLabel in spec_labeledAtoms:\n",
    "#                         initialMap[spec_labeledAtoms[atomLabel]] = ex_spec_labeledAtoms[atomLabel]\n",
    "#                 except KeyError:\n",
    "#                     # atom labels did not match, therefore not a match\n",
    "#                     continue\n",
    "#                 if spec.molecule[0].isIsomorphic(ex_spec.molecule[0],initialMap):\n",
    "#                     spec.label = ex_spec.label\n",
    "#                     break\n",
    "#         else:# no isomorphic existing species found\n",
    "#             spec_formula = spec.molecule[0].getFormula()\n",
    "#             if spec_formula not in speciesDict:\n",
    "#                 spec.label = spec_formula\n",
    "#             else:\n",
    "#                 index = 2\n",
    "#                 while (spec_formula + '-{}'.format(index)) in speciesDict:\n",
    "#                     index += 1\n",
    "#                 spec.label = spec_formula + '-{}'.format(index)\n",
    "#             speciesDict[spec.label] = spec"
   ]
  },
  {
   "cell_type": "markdown",
   "metadata": {},
   "source": [
    "## save to files\n",
    "\n",
    "Save reactionDict to reactions.py and speciesDict to dictionary.txt"
   ]
  },
  {
   "cell_type": "code",
   "execution_count": null,
   "metadata": {
    "collapsed": false
   },
   "outputs": [],
   "source": [
    "# # try to append \n",
    "# training_file = open(os.path.join(settings['database.directory'], 'kinetics', 'families', \\\n",
    "#             kineticFamily.label, 'training', 'reactions_test.py'), 'a')\n",
    "\n",
    "# training_file.write(\"\\n\\n\")"
   ]
  },
  {
   "cell_type": "code",
   "execution_count": null,
   "metadata": {
    "collapsed": true
   },
   "outputs": [],
   "source": [
    "# # find the largest reaction index\n",
    "# for depository in kineticFamily.depositories:\n",
    "#     if depository.label.endswith('training'):\n",
    "#         break\n",
    "# else:\n",
    "#     logging.info('Could not find training depository in family {0}.'.format(kineticFamily.label))\n",
    "#     logging.info('Starting a new one')\n",
    "#     depository = KineticsDepository()\n",
    "#     kineticFamily.depositories.append(depository)\n",
    "\n",
    "# trainingDatabase = depository\n",
    "# indices = [entry.index for entry in trainingDatabase.entries.values()]\n",
    "# if indices:\n",
    "#     maxIndex = max(indices)\n",
    "# else:\n",
    "#     maxIndex = 0"
   ]
  },
  {
   "cell_type": "code",
   "execution_count": null,
   "metadata": {
    "collapsed": false
   },
   "outputs": [],
   "source": [
    "# # save reactions.py\n",
    "# from rmgpy.data.base import Entry\n",
    "# for i, reaction in enumerate(reactions):    \n",
    "#     entry = Entry(\n",
    "#         index = maxIndex+i+1,\n",
    "#         label = str(reaction),\n",
    "#         item = reaction,\n",
    "#         data = reaction.kinetics,\n",
    "#         reference = None,\n",
    "#         referenceType = '',\n",
    "#         shortDesc = unicode(''),\n",
    "#         longDesc = unicode(''),\n",
    "#         rank = 3,\n",
    "#         )\n",
    "#     print reaction\n",
    "#     kineticFamily.saveEntry(training_file, entry)\n",
    "\n",
    "# training_file.close()"
   ]
  },
  {
   "cell_type": "code",
   "execution_count": null,
   "metadata": {
    "collapsed": true
   },
   "outputs": [],
   "source": [
    "# # save dictionary.txt\n",
    "# directory_test_file = os.path.join(training_path, 'directory_test.txt')\n",
    "# with open(directory_test_file, 'w') as f:\n",
    "#     for label in speciesDict.keys():\n",
    "#         f.write(speciesDict[label].molecule[0].toAdjacencyList(label=label, removeH=False))\n",
    "#         f.write('\\n')\n",
    "# f.close()"
   ]
  }
 ],
 "metadata": {
  "anaconda-cloud": {},
  "kernelspec": {
   "display_name": "Python [default]",
   "language": "python",
   "name": "python2"
  },
  "language_info": {
   "codemirror_mode": {
    "name": "ipython",
    "version": 2.0
   },
   "file_extension": ".py",
   "mimetype": "text/x-python",
   "name": "python",
   "nbconvert_exporter": "python",
   "pygments_lexer": "ipython2",
   "version": "2.7.12"
  }
 },
 "nbformat": 4,
 "nbformat_minor": 0
}
