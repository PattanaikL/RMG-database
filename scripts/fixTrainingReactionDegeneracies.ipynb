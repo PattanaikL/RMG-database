{
 "cells": [
  {
   "cell_type": "markdown",
   "metadata": {
    "toc": "true"
   },
   "source": [
    "# Table of Contents\n",
    " <p><div class=\"lev1 toc-item\"><a href=\"#fix-training-reaction-degeneracies\" data-toc-modified-id=\"fix-training-reaction-degeneracies-1\"><span class=\"toc-item-num\">1&nbsp;&nbsp;</span>fix training reaction degeneracies</a></div><div class=\"lev2 toc-item\"><a href=\"#load-lib_rxn\" data-toc-modified-id=\"load-lib_rxn-11\"><span class=\"toc-item-num\">1.1&nbsp;&nbsp;</span>load lib_rxn</a></div><div class=\"lev2 toc-item\"><a href=\"#fix-training-degeneracy-of-families\" data-toc-modified-id=\"fix-training-degeneracy-of-families-12\"><span class=\"toc-item-num\">1.2&nbsp;&nbsp;</span>fix training degeneracy of families</a></div>"
   ]
  },
  {
   "cell_type": "markdown",
   "metadata": {},
   "source": [
    "# fix training reaction degeneracies\n",
    "\n",
    "This script loads training reactions from all families, finds their degeneracy and outputs the correct degeneracy in its place. "
   ]
  },
  {
   "cell_type": "code",
   "execution_count": null,
   "metadata": {},
   "outputs": [],
   "source": [
    "from rmgpy.data.rmg import RMGDatabase\n",
    "from rmgpy.chemkin import saveChemkinFile, saveSpeciesDictionary\n",
    "from rmgpy.rmg.model import Species\n",
    "from rmgpy import settings\n",
    "from IPython.display import display, HTML, Image\n",
    "import numpy as np\n",
    "import os\n",
    "from rmgpy.data.kinetics.family import TemplateReaction\n",
    "from rmgpy.exceptions import KineticsError, UndeterminableKineticsError"
   ]
  },
  {
   "cell_type": "markdown",
   "metadata": {},
   "source": [
    "\n",
    "## load lib_rxn"
   ]
  },
  {
   "cell_type": "code",
   "execution_count": null,
   "metadata": {},
   "outputs": [],
   "source": [
    "database = RMGDatabase()\n",
    "database.load(\n",
    "    path = settings['database.directory'], \n",
    "    thermoLibraries = [],\n",
    "    kineticsFamilies = 'all', \n",
    "    kineticsDepositories = ['training']\n",
    ")"
   ]
  },
  {
   "cell_type": "markdown",
   "metadata": {},
   "source": [
    "## fix training degeneracy of families"
   ]
  },
  {
   "cell_type": "code",
   "execution_count": null,
   "metadata": {
    "scrolled": true
   },
   "outputs": [],
   "source": [
    "kinetics_families_path = os.path.join(settings['database.directory'],'kinetics','families')"
   ]
  },
  {
   "cell_type": "code",
   "execution_count": null,
   "metadata": {
    "scrolled": false
   },
   "outputs": [],
   "source": [
    "for family in database.kinetics.families.values():\n",
    "    rxn_depository = family.depositories[0]\n",
    "    training_reaction_entries = rxn_depository.entries.values()\n",
    "    for entry in training_reaction_entries:\n",
    "        rxn = entry.item\n",
    "        old_degeneracy = rxn.degeneracy\n",
    "        rxn = TemplateReaction(index = rxn.index,\n",
    "                              reactants = rxn.reactants,\n",
    "                              products = rxn.products,\n",
    "                              kinetics = rxn.kinetics,\n",
    "                              reversible = rxn.reversible,\n",
    "                              duplicate = rxn.duplicate,\n",
    "                              degeneracy = rxn.degeneracy,\n",
    "                              pairs = rxn.pairs)\n",
    "        try: # from family.addKineticsRulesFromTrainingSet\n",
    "            rxn.template = family.getReactionTemplateLabels(rxn)\n",
    "        except UndeterminableKineticsError:\n",
    "                # This rxn in written in reverse direction.\n",
    "                # Currently, we don't have to deal with degeneracy of reverse templates\n",
    "                continue\n",
    "        try:\n",
    "            rxn.degeneracy = family.calculateDegeneracy(rxn)\n",
    "        except KineticsError as e:\n",
    "            print(e)\n",
    "            print('entry index is {}'.format(entry.index))\n",
    "            display(rxn)\n",
    "        assert id(rxn.degeneracy) != id(old_degeneracy)\n",
    "        if rxn.degeneracy != old_degeneracy:\n",
    "            print('Degeneracy changed from {0} to {1} for reaction {2}'.format(old_degeneracy,rxn.degeneracy,rxn))\n",
    "    family.saveDepository(depository=rxn_depository, path=os.path.join(kinetics_families_path,rxn_depository.label))\n",
    "    print('finished updating degeneracy for family {}'.format(family.label))"
   ]
  }
 ],
 "metadata": {
  "anaconda-cloud": {},
  "kernelspec": {
   "display_name": "Python 2",
   "language": "python",
   "name": "python2"
  },
  "language_info": {
   "codemirror_mode": {
    "name": "ipython",
    "version": 2
   },
   "file_extension": ".py",
   "mimetype": "text/x-python",
   "name": "python",
   "nbconvert_exporter": "python",
   "pygments_lexer": "ipython2",
   "version": "2.7.13"
  },
  "toc": {
   "nav_menu": {
    "height": "172px",
    "width": "253px"
   },
   "navigate_menu": true,
   "number_sections": true,
   "sideBar": true,
   "threshold": 4,
   "toc_cell": true,
   "toc_section_display": "block",
   "toc_window_display": true
  }
 },
 "nbformat": 4,
 "nbformat_minor": 1
}
